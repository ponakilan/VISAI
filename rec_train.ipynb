{
 "cells": [
  {
   "cell_type": "code",
   "execution_count": 1,
   "metadata": {},
   "outputs": [
    {
     "data": {
      "text/plain": [
       "RecomModel(\n",
       "  (fc1): Linear(in_features=11, out_features=100, bias=True)\n",
       "  (fc2): Linear(in_features=100, out_features=200, bias=True)\n",
       "  (fc3): Linear(in_features=200, out_features=100, bias=True)\n",
       "  (fc4): Linear(in_features=100, out_features=4, bias=True)\n",
       ")"
      ]
     },
     "execution_count": 1,
     "metadata": {},
     "output_type": "execute_result"
    }
   ],
   "source": [
    "from models.rec1 import RecomModel\n",
    "from dataset.dataset import Recommendations\n",
    "from torch.utils.data import DataLoader\n",
    "from models.utils.rectrain import train\n",
    "import torch\n",
    "\n",
    "device = torch.device('cuda' if torch.cuda.is_available() else 'cpu')\n",
    "\n",
    "model = RecomModel()\n",
    "model.to(device)"
   ]
  },
  {
   "cell_type": "code",
   "execution_count": 2,
   "metadata": {},
   "outputs": [],
   "source": [
    "dataset = Recommendations('data/recommendation.csv')\n",
    "dataloader = DataLoader(\n",
    "    dataset=dataset,\n",
    "    batch_size=32,\n",
    "    shuffle=True\n",
    ")"
   ]
  },
  {
   "cell_type": "code",
   "execution_count": 3,
   "metadata": {},
   "outputs": [
    {
     "name": "stderr",
     "output_type": "stream",
     "text": [
      "\u001b[34m\u001b[1mwandb\u001b[0m: Currently logged in as: \u001b[33mponakilan25\u001b[0m. Use \u001b[1m`wandb login --relogin`\u001b[0m to force relogin\n",
      "\u001b[34m\u001b[1mwandb\u001b[0m: \u001b[33mWARNING\u001b[0m If you're specifying your api key in code, ensure this code is not shared publicly.\n",
      "\u001b[34m\u001b[1mwandb\u001b[0m: \u001b[33mWARNING\u001b[0m Consider setting the WANDB_API_KEY environment variable, or running `wandb login` from the command line.\n",
      "\u001b[34m\u001b[1mwandb\u001b[0m: Appending key for api.wandb.ai to your netrc file: /home/akilan/.netrc\n"
     ]
    },
    {
     "data": {
      "text/html": [
       "Tracking run with wandb version 0.16.3"
      ],
      "text/plain": [
       "<IPython.core.display.HTML object>"
      ]
     },
     "metadata": {},
     "output_type": "display_data"
    },
    {
     "data": {
      "text/html": [
       "Run data is saved locally in <code>/media/akilan/Personal/PycharmProjects/VISAI/wandb/run-20240221_225739-7rmac9qf</code>"
      ],
      "text/plain": [
       "<IPython.core.display.HTML object>"
      ]
     },
     "metadata": {},
     "output_type": "display_data"
    },
    {
     "data": {
      "text/html": [
       "Syncing run <strong><a href='https://wandb.ai/ponakilan25/Energy-Recommendation/runs/7rmac9qf' target=\"_blank\">enchanting-chrysanthemum-11</a></strong> to <a href='https://wandb.ai/ponakilan25/Energy-Recommendation' target=\"_blank\">Weights & Biases</a> (<a href='https://wandb.me/run' target=\"_blank\">docs</a>)<br/>"
      ],
      "text/plain": [
       "<IPython.core.display.HTML object>"
      ]
     },
     "metadata": {},
     "output_type": "display_data"
    },
    {
     "data": {
      "text/html": [
       " View project at <a href='https://wandb.ai/ponakilan25/Energy-Recommendation' target=\"_blank\">https://wandb.ai/ponakilan25/Energy-Recommendation</a>"
      ],
      "text/plain": [
       "<IPython.core.display.HTML object>"
      ]
     },
     "metadata": {},
     "output_type": "display_data"
    },
    {
     "data": {
      "text/html": [
       " View run at <a href='https://wandb.ai/ponakilan25/Energy-Recommendation/runs/7rmac9qf' target=\"_blank\">https://wandb.ai/ponakilan25/Energy-Recommendation/runs/7rmac9qf</a>"
      ],
      "text/plain": [
       "<IPython.core.display.HTML object>"
      ]
     },
     "metadata": {},
     "output_type": "display_data"
    },
    {
     "name": "stdout",
     "output_type": "stream",
     "text": [
      "Epoch 1 started.\n",
      "Epoch loss: 0.6914269089698791\n",
      "Epoch 2 started.\n",
      "Epoch loss: 0.5190430641174316\n",
      "Epoch 3 started.\n",
      "Epoch loss: 0.34882481694221495\n",
      "Epoch 4 started.\n",
      "Epoch loss: 0.26143344342708585\n",
      "Epoch 5 started.\n",
      "Epoch loss: 0.21408794373273848\n",
      "Epoch 6 started.\n",
      "Epoch loss: 0.178277113288641\n",
      "Epoch 7 started.\n",
      "Epoch loss: 0.15841188207268714\n",
      "Epoch 8 started.\n",
      "Epoch loss: 0.14399076774716377\n",
      "Epoch 9 started.\n",
      "Epoch loss: 0.1291490986943245\n",
      "Epoch 10 started.\n",
      "Epoch loss: 0.12017408274114132\n",
      "Epoch 11 started.\n",
      "Epoch loss: 0.11129890494048596\n",
      "Epoch 12 started.\n",
      "Epoch loss: 0.10107526704668998\n",
      "Epoch 13 started.\n",
      "Epoch loss: 0.10145414657890797\n",
      "Epoch 14 started.\n",
      "Epoch loss: 0.09911765642464161\n",
      "Epoch 15 started.\n",
      "Epoch loss: 0.08948938623070717\n",
      "Epoch 16 started.\n",
      "Epoch loss: 0.08324602209031581\n",
      "Epoch 17 started.\n",
      "Epoch loss: 0.07853866927325726\n",
      "Epoch 18 started.\n",
      "Epoch loss: 0.07024091053754092\n",
      "Epoch 19 started.\n",
      "Epoch loss: 0.06735382936894893\n",
      "Epoch 20 started.\n",
      "Epoch loss: 0.0646432213485241\n",
      "Epoch 21 started.\n",
      "Epoch loss: 0.05925324186682701\n",
      "Epoch 22 started.\n",
      "Epoch loss: 0.06009485684335232\n",
      "Epoch 23 started.\n",
      "Epoch loss: 0.054408323392271994\n",
      "Epoch 24 started.\n",
      "Epoch loss: 0.049699549190700056\n",
      "Epoch 25 started.\n",
      "Epoch loss: 0.04535357113927603\n",
      "Epoch 26 started.\n",
      "Epoch loss: 0.04340380169451237\n",
      "Epoch 27 started.\n",
      "Epoch loss: 0.041219324246048926\n",
      "Epoch 28 started.\n",
      "Epoch loss: 0.03740741647779942\n",
      "Epoch 29 started.\n",
      "Epoch loss: 0.039065252523869276\n",
      "Epoch 30 started.\n",
      "Epoch loss: 0.038018181547522546\n",
      "Epoch 31 started.\n",
      "Epoch loss: 0.03344665691256523\n",
      "Epoch 32 started.\n",
      "Epoch loss: 0.03309082370251417\n",
      "Epoch 33 started.\n",
      "Epoch loss: 0.02960490733385086\n",
      "Epoch 34 started.\n",
      "Epoch loss: 0.02747243633493781\n",
      "Epoch 35 started.\n",
      "Epoch loss: 0.025502570252865554\n",
      "Epoch 36 started.\n",
      "Epoch loss: 0.024875190015882252\n",
      "Epoch 37 started.\n",
      "Epoch loss: 0.02409201702103019\n",
      "Epoch 38 started.\n",
      "Epoch loss: 0.021210112143307924\n",
      "Epoch 39 started.\n",
      "Epoch loss: 0.0215137654915452\n",
      "Epoch 40 started.\n",
      "Epoch loss: 0.02029201202094555\n",
      "Epoch 41 started.\n",
      "Epoch loss: 0.018940191809087993\n",
      "Epoch 42 started.\n",
      "Epoch loss: 0.018492189329117538\n",
      "Epoch 43 started.\n",
      "Epoch loss: 0.015811956441029906\n",
      "Epoch 44 started.\n",
      "Epoch loss: 0.01565073085948825\n",
      "Epoch 45 started.\n",
      "Epoch loss: 0.01779275736771524\n",
      "Epoch 46 started.\n",
      "Epoch loss: 0.016807399643585085\n",
      "Epoch 47 started.\n",
      "Epoch loss: 0.014307718817144632\n",
      "Epoch 48 started.\n",
      "Epoch loss: 0.014059559628367423\n",
      "Epoch 49 started.\n",
      "Epoch loss: 0.012630196567624808\n",
      "Epoch 50 started.\n",
      "Epoch loss: 0.011861913511529565\n"
     ]
    },
    {
     "name": "stderr",
     "output_type": "stream",
     "text": [
      "wandb: WARNING Source type is set to 'repo' but some required information is missing from the environment. A job will not be created from this run. See https://docs.wandb.ai/guides/launch/create-job\n"
     ]
    },
    {
     "data": {
      "application/vnd.jupyter.widget-view+json": {
       "model_id": "2851a7289e674baf85aa1af5d6028772",
       "version_major": 2,
       "version_minor": 0
      },
      "text/plain": [
       "VBox(children=(Label(value='0.002 MB of 0.002 MB uploaded\\r'), FloatProgress(value=1.0, max=1.0)))"
      ]
     },
     "metadata": {},
     "output_type": "display_data"
    },
    {
     "data": {
      "text/html": [
       "<style>\n",
       "    table.wandb td:nth-child(1) { padding: 0 10px; text-align: left ; width: auto;} td:nth-child(2) {text-align: left ; width: 100%}\n",
       "    .wandb-row { display: flex; flex-direction: row; flex-wrap: wrap; justify-content: flex-start; width: 100% }\n",
       "    .wandb-col { display: flex; flex-direction: column; flex-basis: 100%; flex: 1; padding: 10px; }\n",
       "    </style>\n",
       "<div class=\"wandb-row\"><div class=\"wandb-col\"><h3>Run history:</h3><br/><table class=\"wandb\"><tr><td>loss</td><td>█▆▄▄▃▃▂▂▂▂▂▂▂▂▂▂▁▁▁▁▁▁▁▁▁▁▁▁▁▁▁▁▁▁▁▁▁▁▁▁</td></tr></table><br/></div><div class=\"wandb-col\"><h3>Run summary:</h3><br/><table class=\"wandb\"><tr><td>loss</td><td>0.01186</td></tr></table><br/></div></div>"
      ],
      "text/plain": [
       "<IPython.core.display.HTML object>"
      ]
     },
     "metadata": {},
     "output_type": "display_data"
    },
    {
     "data": {
      "text/html": [
       " View run <strong style=\"color:#cdcd00\">enchanting-chrysanthemum-11</strong> at: <a href='https://wandb.ai/ponakilan25/Energy-Recommendation/runs/7rmac9qf' target=\"_blank\">https://wandb.ai/ponakilan25/Energy-Recommendation/runs/7rmac9qf</a><br/>Synced 5 W&B file(s), 0 media file(s), 0 artifact file(s) and 0 other file(s)"
      ],
      "text/plain": [
       "<IPython.core.display.HTML object>"
      ]
     },
     "metadata": {},
     "output_type": "display_data"
    },
    {
     "data": {
      "text/html": [
       "Find logs at: <code>./wandb/run-20240221_225739-7rmac9qf/logs</code>"
      ],
      "text/plain": [
       "<IPython.core.display.HTML object>"
      ]
     },
     "metadata": {},
     "output_type": "display_data"
    }
   ],
   "source": [
    "import wandb\n",
    "\n",
    "wandb.login(key=\"47073d7eabe081cda8e379741c61cf4806a559b5\")\n",
    "run = wandb.init(project=\"Energy-Recommendation\")\n",
    "\n",
    "train(\n",
    "    model=model, \n",
    "    optimizer=torch.optim.Adam(model.parameters(), lr=1e-3), \n",
    "    criterion=torch.nn.MSELoss(),\n",
    "    train_dataloader=dataloader,\n",
    "    epochs=50,\n",
    "    run=run,\n",
    "    log_interval=10,\n",
    "    device=device,\n",
    "    save_path='trained_models'\n",
    ")\n",
    "\n",
    "wandb.finish()"
   ]
  }
 ],
 "metadata": {
  "kernelspec": {
   "display_name": "Python 3 (ipykernel)",
   "language": "python",
   "name": "python3"
  },
  "language_info": {
   "codemirror_mode": {
    "name": "ipython",
    "version": 3
   },
   "file_extension": ".py",
   "mimetype": "text/x-python",
   "name": "python",
   "nbconvert_exporter": "python",
   "pygments_lexer": "ipython3",
   "version": "3.11.6"
  }
 },
 "nbformat": 4,
 "nbformat_minor": 2
}
