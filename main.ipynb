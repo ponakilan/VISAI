{
 "cells": [
  {
   "cell_type": "code",
   "execution_count": 8,
   "metadata": {},
   "outputs": [
    {
     "data": {
      "text/plain": [
       "device(type='cpu')"
      ]
     },
     "execution_count": 8,
     "metadata": {},
     "output_type": "execute_result"
    }
   ],
   "source": [
    "import torch\n",
    "from models.model_2 import ConsumptionPredictor\n",
    "from models.utils.train import train\n",
    "from dataset.dataset import PowerConsumptionDataset\n",
    "from torch.utils.data import DataLoader\n",
    "\n",
    "device = torch.device('cuda' if torch.cuda.is_available() else 'cpu')\n",
    "device"
   ]
  },
  {
   "cell_type": "code",
   "execution_count": 10,
   "metadata": {},
   "outputs": [
    {
     "name": "stdout",
     "output_type": "stream",
     "text": [
      "\n",
      "\u001b[1m[\u001b[0m\u001b[34;49mnotice\u001b[0m\u001b[1;39;49m]\u001b[0m\u001b[39;49m A new release of pip is available: \u001b[0m\u001b[31;49m23.3.2\u001b[0m\u001b[39;49m -> \u001b[0m\u001b[32;49m24.0\u001b[0m\n",
      "\u001b[1m[\u001b[0m\u001b[34;49mnotice\u001b[0m\u001b[1;39;49m]\u001b[0m\u001b[39;49m To update, run: \u001b[0m\u001b[32;49mpython -m pip install --upgrade pip\u001b[0m\n"
     ]
    }
   ],
   "source": [
    "!pip install wandb -qU"
   ]
  },
  {
   "cell_type": "code",
   "execution_count": null,
   "metadata": {},
   "outputs": [
    {
     "name": "stderr",
     "output_type": "stream",
     "text": [
      "Failed to detect the name of this notebook, you can set it manually with the WANDB_NOTEBOOK_NAME environment variable to enable code saving.\n",
      "\u001b[34m\u001b[1mwandb\u001b[0m: W&B API key is configured. Use \u001b[1m`wandb login --relogin`\u001b[0m to force relogin\n",
      "\u001b[34m\u001b[1mwandb\u001b[0m: \u001b[33mWARNING\u001b[0m If you're specifying your api key in code, ensure this code is not shared publicly.\n",
      "\u001b[34m\u001b[1mwandb\u001b[0m: \u001b[33mWARNING\u001b[0m Consider setting the WANDB_API_KEY environment variable, or running `wandb login` from the command line.\n",
      "\u001b[34m\u001b[1mwandb\u001b[0m: Appending key for api.wandb.ai to your netrc file: /home/codespace/.netrc\n",
      "\u001b[34m\u001b[1mwandb\u001b[0m: Currently logged in as: \u001b[33mponakilan25\u001b[0m. Use \u001b[1m`wandb login --relogin`\u001b[0m to force relogin\n"
     ]
    },
    {
     "data": {
      "text/html": [
       "Tracking run with wandb version 0.16.3"
      ],
      "text/plain": [
       "<IPython.core.display.HTML object>"
      ]
     },
     "metadata": {},
     "output_type": "display_data"
    },
    {
     "data": {
      "text/html": [
       "Run data is saved locally in <code>/workspaces/VISAI/wandb/run-20240214_050751-m93wceq4</code>"
      ],
      "text/plain": [
       "<IPython.core.display.HTML object>"
      ]
     },
     "metadata": {},
     "output_type": "display_data"
    },
    {
     "data": {
      "text/html": [
       "Syncing run <strong><a href='https://wandb.ai/ponakilan25/VISAI/runs/m93wceq4' target=\"_blank\">VISAI</a></strong> to <a href='https://wandb.ai/ponakilan25/VISAI' target=\"_blank\">Weights & Biases</a> (<a href='https://wandb.me/run' target=\"_blank\">docs</a>)<br/>"
      ],
      "text/plain": [
       "<IPython.core.display.HTML object>"
      ]
     },
     "metadata": {},
     "output_type": "display_data"
    },
    {
     "data": {
      "text/html": [
       " View project at <a href='https://wandb.ai/ponakilan25/VISAI' target=\"_blank\">https://wandb.ai/ponakilan25/VISAI</a>"
      ],
      "text/plain": [
       "<IPython.core.display.HTML object>"
      ]
     },
     "metadata": {},
     "output_type": "display_data"
    },
    {
     "data": {
      "text/html": [
       " View run at <a href='https://wandb.ai/ponakilan25/VISAI/runs/m93wceq4' target=\"_blank\">https://wandb.ai/ponakilan25/VISAI/runs/m93wceq4</a>"
      ],
      "text/plain": [
       "<IPython.core.display.HTML object>"
      ]
     },
     "metadata": {},
     "output_type": "display_data"
    }
   ],
   "source": [
    "import wandb\n",
    "\n",
    "config = {\n",
    "    \"learning_rate\": 0.001,\n",
    "    \"batch_size\": 32,\n",
    "    \"sequence_length\": 12,\n",
    "    \"optimizer\": \"adam\",\n",
    "    \"log_interval\": 100,\n",
    "    \"epochs\": 20\n",
    "}\n",
    "\n",
    "wandb.login(key='47073d7eabe081cda8e379741c61cf4806a559b5')\n",
    "run = wandb.init(\n",
    "    name=\"VISAI\",\n",
    "    config=config\n",
    ")\n",
    "config = wandb.config"
   ]
  },
  {
   "cell_type": "code",
   "execution_count": null,
   "metadata": {},
   "outputs": [],
   "source": [
    "dataset = PowerConsumptionDataset(\n",
    "    data_dir=\"/workspaces/VISAI/data\",\n",
    "    sm_path=\"/workspaces/VISAI/data/01_sm\",\n",
    "    plugs_path=\"/workspaces/VISAI/data/01_plugs\",\n",
    "    num_rows=24*3600,\n",
    "    sequence_length=12\n",
    ")\n",
    "\n",
    "dataloader = DataLoader(\n",
    "    dataset,\n",
    "    batch_size=32,\n",
    "    shuffle=False\n",
    ")"
   ]
  },
  {
   "cell_type": "code",
   "execution_count": null,
   "metadata": {},
   "outputs": [],
   "source": [
    "model = ConsumptionPredictor().to(device)\n",
    "\n",
    "optimizer = torch.optim.Adam(model.parameters(), lr=config.learing_rate)\n",
    "criterion = torch.nn.MSELoss()\n",
    "\n",
    "train(model, optimizer, criterion, dataloader, config.epochs, run, config.log_interval, device)"
   ]
  },
  {
   "cell_type": "code",
   "execution_count": 13,
   "metadata": {},
   "outputs": [
    {
     "data": {
      "text/plain": [
       "(tensor([[9.6963],\n",
       "         [9.6963],\n",
       "         [9.6963],\n",
       "         [9.6963],\n",
       "         [9.6963],\n",
       "         [9.6963],\n",
       "         [9.6963],\n",
       "         [9.6963],\n",
       "         [9.6963],\n",
       "         [9.6963],\n",
       "         [9.6963],\n",
       "         [9.6963],\n",
       "         [9.6963],\n",
       "         [9.6963],\n",
       "         [9.6963],\n",
       "         [9.6963],\n",
       "         [9.6963],\n",
       "         [9.6963],\n",
       "         [9.6963],\n",
       "         [9.6963],\n",
       "         [9.6963],\n",
       "         [9.6963],\n",
       "         [9.6963],\n",
       "         [9.6963],\n",
       "         [9.6963],\n",
       "         [9.6963],\n",
       "         [9.6963],\n",
       "         [9.6963],\n",
       "         [9.6963],\n",
       "         [9.6963],\n",
       "         [9.6963],\n",
       "         [9.6963]], grad_fn=<AddmmBackward0>),\n",
       " tensor([179.8940, 171.8730, 169.6630, 169.6320, 170.1070, 170.1990, 169.8230,\n",
       "         169.6130, 170.3820, 169.6630, 169.9760, 169.5210, 169.3510, 169.4590,\n",
       "         169.6690, 169.7930, 169.8900, 169.3670, 169.3100, 169.6120, 169.8930,\n",
       "         169.3110, 169.3130, 169.2290, 169.5380, 169.3810, 169.4190, 169.1360,\n",
       "         168.9570, 169.3000, 169.2370, 168.7650]))"
      ]
     },
     "execution_count": 13,
     "metadata": {},
     "output_type": "execute_result"
    }
   ],
   "source": [
    "import torch\n",
    "\n",
    "model = torch.load('model.pt').cpu()\n",
    "model(inputs), targets"
   ]
  }
 ],
 "metadata": {
  "kernelspec": {
   "display_name": ".venv",
   "language": "python",
   "name": "python3"
  },
  "language_info": {
   "codemirror_mode": {
    "name": "ipython",
    "version": 3
   },
   "file_extension": ".py",
   "mimetype": "text/x-python",
   "name": "python",
   "nbconvert_exporter": "python",
   "pygments_lexer": "ipython3",
   "version": "3.10.13"
  }
 },
 "nbformat": 4,
 "nbformat_minor": 2
}
