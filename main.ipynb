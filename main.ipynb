{
 "cells": [
  {
   "cell_type": "code",
   "execution_count": 2,
   "metadata": {},
   "outputs": [],
   "source": [
    "from torch import nn\n",
    "from torch.utils.data import DataLoader\n",
    "from dataset.dataset import PowerConsumptionDataset\n",
    "\n",
    "dataset = PowerConsumptionDataset(\n",
    "    data_dir='/home/akilan/VISAI/data',\n",
    "    sm_path=\"/home/akilan/VISAI/data/01_sm\",\n",
    "    plugs_path=\"/home/akilan/VISAI/data/01_plugs\",\n",
    "    num_rows=86400,\n",
    "    sequence_length=12\n",
    ")"
   ]
  },
  {
   "cell_type": "code",
   "execution_count": 11,
   "metadata": {},
   "outputs": [
    {
     "data": {
      "text/plain": [
       "(torch.Size([32, 12, 8]), torch.Size([32, 1]))"
      ]
     },
     "execution_count": 11,
     "metadata": {},
     "output_type": "execute_result"
    }
   ],
   "source": [
    "dataloader = DataLoader(dataset, batch_size=32, shuffle=False)\n",
    "inputs, targets = next(iter(dataloader))\n",
    "inputs.shape, targets.reshape(32, 1).shape"
   ]
  }
 ],
 "metadata": {
  "kernelspec": {
   "display_name": ".venv",
   "language": "python",
   "name": "python3"
  },
  "language_info": {
   "codemirror_mode": {
    "name": "ipython",
    "version": 3
   },
   "file_extension": ".py",
   "mimetype": "text/x-python",
   "name": "python",
   "nbconvert_exporter": "python",
   "pygments_lexer": "ipython3",
   "version": "3.10.12"
  }
 },
 "nbformat": 4,
 "nbformat_minor": 2
}
